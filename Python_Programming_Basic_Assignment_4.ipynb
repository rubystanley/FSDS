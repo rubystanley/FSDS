{
 "cells": [
  {
   "cell_type": "code",
   "execution_count": null,
   "id": "ccb352b9",
   "metadata": {},
   "outputs": [],
   "source": [
    "1. Write a Python Program to Find the Factorial of a Number?"
   ]
  },
  {
   "cell_type": "code",
   "execution_count": 11,
   "id": "d2b97334",
   "metadata": {},
   "outputs": [],
   "source": [
    "\n",
    "def factorial(n):\n",
    "    factorial=1\n",
    "    try:\n",
    "        if n<0:\n",
    "            print(\"No factorial\")\n",
    "        elif n==0:\n",
    "            return 1\n",
    "        else:\n",
    "            for i in range(1,n+1):\n",
    "                factorial=factorial*i\n",
    "            return factorial\n",
    "    except Exception as e:\n",
    "        print(e)"
   ]
  },
  {
   "cell_type": "code",
   "execution_count": 32,
   "id": "780c4247",
   "metadata": {},
   "outputs": [
    {
     "data": {
      "text/plain": [
       "24"
      ]
     },
     "execution_count": 32,
     "metadata": {},
     "output_type": "execute_result"
    }
   ],
   "source": [
    "factorial(4)"
   ]
  },
  {
   "cell_type": "code",
   "execution_count": null,
   "id": "d7251fd8",
   "metadata": {},
   "outputs": [],
   "source": [
    "2. Write a Python Program to Display the multiplication Table?"
   ]
  },
  {
   "cell_type": "code",
   "execution_count": 20,
   "id": "5954924c",
   "metadata": {},
   "outputs": [],
   "source": [
    "def mult_table(n):\n",
    "         for i in range(1,11):\n",
    "            print(n,\"*\",i,\"=\",n*i)"
   ]
  },
  {
   "cell_type": "code",
   "execution_count": 30,
   "id": "df97f452",
   "metadata": {},
   "outputs": [
    {
     "name": "stdout",
     "output_type": "stream",
     "text": [
      "100000 * 1 = 100000\n",
      "100000 * 2 = 200000\n",
      "100000 * 3 = 300000\n",
      "100000 * 4 = 400000\n",
      "100000 * 5 = 500000\n",
      "100000 * 6 = 600000\n",
      "100000 * 7 = 700000\n",
      "100000 * 8 = 800000\n",
      "100000 * 9 = 900000\n",
      "100000 * 10 = 1000000\n"
     ]
    }
   ],
   "source": [
    "mult_table(100000)"
   ]
  },
  {
   "cell_type": "code",
   "execution_count": null,
   "id": "1005f5ac",
   "metadata": {},
   "outputs": [],
   "source": [
    "3. Write a Python Program to Print the Fibonacci sequence?"
   ]
  },
  {
   "cell_type": "code",
   "execution_count": 27,
   "id": "fa9aee1d",
   "metadata": {},
   "outputs": [],
   "source": [
    "def gen_fib(n):\n",
    "    a=0\n",
    "    b=1\n",
    "    for i in range(n):\n",
    "        yield a,i ## memorize a and i, a=0,i=1\n",
    "        a,b=b,a+b # static operation a=1 , b=1+1=2"
   ]
  },
  {
   "cell_type": "code",
   "execution_count": 28,
   "id": "573b004b",
   "metadata": {},
   "outputs": [
    {
     "data": {
      "text/plain": [
       "<generator object gen_fib at 0x0000021F16F13740>"
      ]
     },
     "execution_count": 28,
     "metadata": {},
     "output_type": "execute_result"
    }
   ],
   "source": [
    "gen_fib(3)"
   ]
  },
  {
   "cell_type": "code",
   "execution_count": 29,
   "id": "fe6e511a",
   "metadata": {},
   "outputs": [
    {
     "name": "stdout",
     "output_type": "stream",
     "text": [
      "(0, 0)\n",
      "(1, 1)\n",
      "(1, 2)\n",
      "(2, 3)\n",
      "(3, 4)\n",
      "(5, 5)\n",
      "(8, 6)\n",
      "(13, 7)\n",
      "(21, 8)\n",
      "(34, 9)\n",
      "(55, 10)\n",
      "(89, 11)\n",
      "(144, 12)\n",
      "(233, 13)\n",
      "(377, 14)\n",
      "(610, 15)\n",
      "(987, 16)\n",
      "(1597, 17)\n",
      "(2584, 18)\n",
      "(4181, 19)\n",
      "(6765, 20)\n",
      "(10946, 21)\n",
      "(17711, 22)\n",
      "(28657, 23)\n",
      "(46368, 24)\n",
      "(75025, 25)\n",
      "(121393, 26)\n",
      "(196418, 27)\n",
      "(317811, 28)\n",
      "(514229, 29)\n",
      "(832040, 30)\n",
      "(1346269, 31)\n",
      "(2178309, 32)\n",
      "(3524578, 33)\n",
      "(5702887, 34)\n",
      "(9227465, 35)\n",
      "(14930352, 36)\n",
      "(24157817, 37)\n",
      "(39088169, 38)\n",
      "(63245986, 39)\n",
      "(102334155, 40)\n",
      "(165580141, 41)\n",
      "(267914296, 42)\n",
      "(433494437, 43)\n",
      "(701408733, 44)\n",
      "(1134903170, 45)\n",
      "(1836311903, 46)\n",
      "(2971215073, 47)\n",
      "(4807526976, 48)\n",
      "(7778742049, 49)\n",
      "(12586269025, 50)\n",
      "(20365011074, 51)\n",
      "(32951280099, 52)\n",
      "(53316291173, 53)\n",
      "(86267571272, 54)\n",
      "(139583862445, 55)\n",
      "(225851433717, 56)\n",
      "(365435296162, 57)\n",
      "(591286729879, 58)\n",
      "(956722026041, 59)\n",
      "(1548008755920, 60)\n",
      "(2504730781961, 61)\n",
      "(4052739537881, 62)\n",
      "(6557470319842, 63)\n",
      "(10610209857723, 64)\n",
      "(17167680177565, 65)\n",
      "(27777890035288, 66)\n",
      "(44945570212853, 67)\n",
      "(72723460248141, 68)\n",
      "(117669030460994, 69)\n",
      "(190392490709135, 70)\n",
      "(308061521170129, 71)\n",
      "(498454011879264, 72)\n",
      "(806515533049393, 73)\n",
      "(1304969544928657, 74)\n",
      "(2111485077978050, 75)\n",
      "(3416454622906707, 76)\n",
      "(5527939700884757, 77)\n",
      "(8944394323791464, 78)\n",
      "(14472334024676221, 79)\n",
      "(23416728348467685, 80)\n",
      "(37889062373143906, 81)\n",
      "(61305790721611591, 82)\n",
      "(99194853094755497, 83)\n",
      "(160500643816367088, 84)\n",
      "(259695496911122585, 85)\n",
      "(420196140727489673, 86)\n",
      "(679891637638612258, 87)\n",
      "(1100087778366101931, 88)\n",
      "(1779979416004714189, 89)\n",
      "(2880067194370816120, 90)\n",
      "(4660046610375530309, 91)\n",
      "(7540113804746346429, 92)\n",
      "(12200160415121876738, 93)\n",
      "(19740274219868223167, 94)\n",
      "(31940434634990099905, 95)\n",
      "(51680708854858323072, 96)\n",
      "(83621143489848422977, 97)\n",
      "(135301852344706746049, 98)\n",
      "(218922995834555169026, 99)\n"
     ]
    }
   ],
   "source": [
    "for i in gen_fib(100):\n",
    "    print(i)"
   ]
  },
  {
   "cell_type": "code",
   "execution_count": null,
   "id": "77be0b9b",
   "metadata": {},
   "outputs": [],
   "source": [
    "4. Write a Python Program to Check Armstrong Number?"
   ]
  },
  {
   "cell_type": "code",
   "execution_count": 52,
   "id": "3b6cf8b1",
   "metadata": {},
   "outputs": [],
   "source": [
    "import math\n",
    "def check_armstrong(n):\n",
    "    s=str(n)\n",
    "    total=0\n",
    "    no_of_digits=len(s)\n",
    "    for i in range(no_of_digits):\n",
    "        total =total + math.pow(int(s[i]),len(s))\n",
    "       \n",
    "    if total==n:\n",
    "        print(n,\"is an Armstrong number\")\n",
    "    else:\n",
    "        print(n,\"is not Armstrong number\")\n",
    "            "
   ]
  },
  {
   "cell_type": "code",
   "execution_count": 68,
   "id": "b1e3058e",
   "metadata": {},
   "outputs": [
    {
     "name": "stdout",
     "output_type": "stream",
     "text": [
      "371 is an Armstrong number\n"
     ]
    }
   ],
   "source": [
    "check_armstrong(371)"
   ]
  },
  {
   "cell_type": "code",
   "execution_count": 53,
   "id": "42340da0",
   "metadata": {},
   "outputs": [
    {
     "name": "stdout",
     "output_type": "stream",
     "text": [
      "3723 is not Armstrong number\n"
     ]
    }
   ],
   "source": [
    "check_armstrong(3723)"
   ]
  },
  {
   "cell_type": "code",
   "execution_count": null,
   "id": "e9bc1c51",
   "metadata": {},
   "outputs": [],
   "source": [
    "5. Write a Python Program to Find Armstrong Number in an Interval?"
   ]
  },
  {
   "cell_type": "code",
   "execution_count": null,
   "id": "9a9cdd58",
   "metadata": {},
   "outputs": [],
   "source": [
    "def check_armstrong2(n):\n",
    "    s=str(n)\n",
    "    total=0\n",
    "    no_of_digits=len(s)\n",
    "    for i in range(no_of_digits):\n",
    "        total =total + math.pow(int(s[i]),len(s))\n",
    "       \n",
    "    if total==n:\n",
    "        return 1\n",
    "    else:\n",
    "        return 0\n",
    " "
   ]
  },
  {
   "cell_type": "code",
   "execution_count": 72,
   "id": "380bcc27",
   "metadata": {},
   "outputs": [
    {
     "name": "stdout",
     "output_type": "stream",
     "text": [
      "Enter the upper range: 1222\n",
      "Enter the lower range: 2\n",
      "[2, 3, 4, 5, 6, 7, 8, 9, 153, 370, 371, 407]\n"
     ]
    }
   ],
   "source": [
    "upper = int(input(\"Enter the upper range: \"))\n",
    "lower = int(input(\"Enter the lower range: \"))\n",
    "l=[]\n",
    "\n",
    "for i in range(lower, upper+1):\n",
    "    flag=check_armstrong2(i)\n",
    "    if flag==1:\n",
    "        l.append(i)\n",
    "    else:\n",
    "        pass\n",
    "print(\"The armstrong numbers in a list :l)\n",
    "        \n",
    "        \n"
   ]
  },
  {
   "cell_type": "code",
   "execution_count": null,
   "id": "c957a3b1",
   "metadata": {},
   "outputs": [],
   "source": [
    "6. Write a Python Program to Find the Sum of Natural Numbers?"
   ]
  },
  {
   "cell_type": "code",
   "execution_count": 73,
   "id": "d757a6d3",
   "metadata": {},
   "outputs": [],
   "source": [
    "def sum_natural_nos(n):\n",
    "        try:\n",
    "            sum = 0\n",
    "            while n>0:\n",
    "                sum = sum + n\n",
    "                n = n-1\n",
    "            return sum\n",
    "        except Exception as e:\n",
    "            print(e)\n"
   ]
  },
  {
   "cell_type": "code",
   "execution_count": 78,
   "id": "10cd5adc",
   "metadata": {},
   "outputs": [
    {
     "data": {
      "text/plain": [
       "10"
      ]
     },
     "execution_count": 78,
     "metadata": {},
     "output_type": "execute_result"
    }
   ],
   "source": [
    "sum_natural_nos(4)"
   ]
  },
  {
   "cell_type": "code",
   "execution_count": null,
   "id": "74f0d389",
   "metadata": {},
   "outputs": [],
   "source": []
  }
 ],
 "metadata": {
  "kernelspec": {
   "display_name": "Python 3 (ipykernel)",
   "language": "python",
   "name": "python3"
  },
  "language_info": {
   "codemirror_mode": {
    "name": "ipython",
    "version": 3
   },
   "file_extension": ".py",
   "mimetype": "text/x-python",
   "name": "python",
   "nbconvert_exporter": "python",
   "pygments_lexer": "ipython3",
   "version": "3.9.7"
  }
 },
 "nbformat": 4,
 "nbformat_minor": 5
}
