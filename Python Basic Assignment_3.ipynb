{
 "cells": [
  {
   "cell_type": "markdown",
   "id": "12c6d59a",
   "metadata": {},
   "source": [
    "## Questions"
   ]
  },
  {
   "cell_type": "markdown",
   "id": "dae74fbd",
   "metadata": {},
   "source": [
    "1. Why are functions advantageous to have in your programs?\n",
    "2. When does the code in a function run: when it&#39;s specified or when it&#39;s called?\n",
    "3. What statement creates a function?\n",
    "4. What is the difference between a function and a function call?\n",
    "5. How many global scopes are there in a Python program? How many local scopes?\n",
    "6. What happens to variables in a local scope when the function call returns?\n",
    "7. What is the concept of a return value? Is it possible to have a return value in an expression?\n",
    "8. If a function does not have a return statement, what is the return value of a call to that function?\n",
    "9. How do you make a function variable refer to the global variable?\n",
    "10. What is the data type of None?\n",
    "11. What does the sentence import areallyourpetsnamederic do?\n",
    "12. If you had a bacon() feature in a spam module, what would you call it after importing spam?\n",
    "13. What can you do to save a programme from crashing if it encounters an error?\n",
    "14. What is the purpose of the try clause? What is the purpose of the except clause?"
   ]
  },
  {
   "cell_type": "markdown",
   "id": "3a21cb1f",
   "metadata": {},
   "source": [
    "## Answers"
   ]
  },
  {
   "cell_type": "markdown",
   "id": "280a9b43",
   "metadata": {},
   "source": [
    "1 Functions help in reusability of code. Using functions ,we need not rewrite the same piece of code repeatedly and this will help in improving the quality of the code."
   ]
  },
  {
   "cell_type": "markdown",
   "id": "53869f73",
   "metadata": {},
   "source": [
    "2. Code in a function only runs when it is called."
   ]
  },
  {
   "cell_type": "markdown",
   "id": "9e599060",
   "metadata": {},
   "source": [
    "3. The def statement creates a function"
   ]
  },
  {
   "cell_type": "markdown",
   "id": "0b76f154",
   "metadata": {},
   "source": [
    "4. A function definition is the piece of code that tell us what the function does. The function call is the actual line of code that executes the statements in the function."
   ]
  },
  {
   "cell_type": "markdown",
   "id": "e329786e",
   "metadata": {},
   "source": [
    "5.There is only one global scope inside a Python Program. However there can be many local scopes. Each local scope is for a particular function."
   ]
  },
  {
   "cell_type": "markdown",
   "id": "7be596ba",
   "metadata": {},
   "source": [
    "6.When a function call returns , the variables in local scope are destroyed."
   ]
  },
  {
   "cell_type": "markdown",
   "id": "7f602bc8",
   "metadata": {},
   "source": [
    "7. Return value is the value that is returned by a function when it is called.Normally the function execution stops at the return statement. Whatever is written below that line will not be executed.\n",
    "\n",
    "It is possible to specify the return value as an expression such as below example.\n",
    "Below function returns the sum of the variables a+b\n",
    "def func(a,b):\n",
    "    return a+b\n",
    "\n"
   ]
  },
  {
   "cell_type": "markdown",
   "id": "c136efa8",
   "metadata": {},
   "source": [
    "8. None will be returned if a function does not have an explicit return."
   ]
  },
  {
   "cell_type": "markdown",
   "id": "4bfedbc0",
   "metadata": {},
   "source": [
    "9.To make a function variable refer to the global variable, we can use the global keyword."
   ]
  },
  {
   "cell_type": "markdown",
   "id": "3a6bb18a",
   "metadata": {},
   "source": [
    "10.NoneType"
   ]
  },
  {
   "cell_type": "markdown",
   "id": "09911f1c",
   "metadata": {},
   "source": [
    "11.import areallyourpetsnamederic imports the module named areallyourpetsnamederic and converts all the variables and functions in the package locally accessible."
   ]
  },
  {
   "cell_type": "markdown",
   "id": "5c9cfa68",
   "metadata": {},
   "source": [
    "12.spam.bacon()"
   ]
  },
  {
   "cell_type": "markdown",
   "id": "87138996",
   "metadata": {},
   "source": [
    "13.To save a program from crashing during execution, we can use exception handling using the try except statements."
   ]
  },
  {
   "cell_type": "markdown",
   "id": "6be58ef6",
   "metadata": {},
   "source": [
    "14. Using try except , we can execute the code in a try block and if there is any error , the code execution will stop there and jump over to the catch block which will handle the exception by mostly display the exception"
   ]
  }
 ],
 "metadata": {
  "kernelspec": {
   "display_name": "Python 3 (ipykernel)",
   "language": "python",
   "name": "python3"
  },
  "language_info": {
   "codemirror_mode": {
    "name": "ipython",
    "version": 3
   },
   "file_extension": ".py",
   "mimetype": "text/x-python",
   "name": "python",
   "nbconvert_exporter": "python",
   "pygments_lexer": "ipython3",
   "version": "3.9.7"
  }
 },
 "nbformat": 4,
 "nbformat_minor": 5
}
