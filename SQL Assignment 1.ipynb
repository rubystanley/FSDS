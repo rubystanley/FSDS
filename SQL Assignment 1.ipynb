{
 "cells": [
  {
   "cell_type": "markdown",
   "id": "022220a4",
   "metadata": {},
   "source": [
    "Q-1. Write an SQL query to fetch “FIRST_NAME” from Worker table using the alias\n",
    "name as &lt;WORKER_NAME&gt;.\n",
    "\n",
    "select FIRST_NAME from Worker as WORKER_NAME"
   ]
  },
  {
   "cell_type": "markdown",
   "id": "71fe028e",
   "metadata": {},
   "source": [
    "Q-2. Write an SQL query to fetch unique values of DEPARTMENT from Worker table.\n",
    "\n",
    "select DISTINCT DEPARTMENT from Worker"
   ]
  },
  {
   "cell_type": "markdown",
   "id": "d7d64608",
   "metadata": {},
   "source": [
    "Q-3. Write an SQL query to show the last 5 record from a table.\n",
    "\n",
    "select * from Worker ORDER BY ID DESC LIMIT 1"
   ]
  }
 ],
 "metadata": {
  "kernelspec": {
   "display_name": "Python 3 (ipykernel)",
   "language": "python",
   "name": "python3"
  },
  "language_info": {
   "codemirror_mode": {
    "name": "ipython",
    "version": 3
   },
   "file_extension": ".py",
   "mimetype": "text/x-python",
   "name": "python",
   "nbconvert_exporter": "python",
   "pygments_lexer": "ipython3",
   "version": "3.9.7"
  }
 },
 "nbformat": 4,
 "nbformat_minor": 5
}
