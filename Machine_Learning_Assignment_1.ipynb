{
 "cells": [
  {
   "cell_type": "markdown",
   "id": "13b9abfe",
   "metadata": {},
   "source": [
    "1. What does one mean by the term \"machine learning\"?\n",
    "\n",
    "Machine learning is a subset of AI that involves making systems that can learn from data. "
   ]
  },
  {
   "cell_type": "code",
   "execution_count": null,
   "id": "84166011",
   "metadata": {},
   "outputs": [],
   "source": [
    "2.Can you think of 4 distinct types of issues where it shines?\n",
    "Machine learning can be used to solve complex problems for which there is no solution , to replace long lists of \n",
    "hand tuned rules, to build systems that adapt to fluctuating environment and also to help humans gain insights to large amounts of dat.\n"
   ]
  },
  {
   "cell_type": "code",
   "execution_count": null,
   "id": "1488a5d6",
   "metadata": {},
   "outputs": [],
   "source": [
    "3.What is a labeled training set, and how does it work?\n",
    "\n",
    "A labeled training set is one in which the data has labels or tags that give more information or context . In supervised learning , the training dataset that is fed to the algorithm also includes the desired classes or labels so that the model can learn from it."
   ]
  },
  {
   "cell_type": "code",
   "execution_count": null,
   "id": "27830dd3",
   "metadata": {},
   "outputs": [],
   "source": [
    "\n",
    "4.What are the two most important tasks that are supervised?\n",
    "\n",
    "The two most important supervised tasks are \n",
    "1. Classification - eg. Spam Filter\n",
    "2. Regression - eg. House price prediction\n"
   ]
  },
  {
   "cell_type": "code",
   "execution_count": null,
   "id": "48e17333",
   "metadata": {},
   "outputs": [],
   "source": [
    "\n",
    "5.Can you think of four examples of unsupervised tasks?\n",
    "\n",
    "1.Clustering - eg :clustering website visitors based on their activities\n",
    "2.Dimensionality Reduction - Feature extraction which is the merging of strongly correlated features\n",
    "3.Anomaly detection-eg: Flagging unusual bank transactions\n",
    "4.Market Basket analysis - Discover patterns in the buying behaviour of customers\n",
    "\n",
    "\n"
   ]
  },
  {
   "cell_type": "code",
   "execution_count": null,
   "id": "79b8ae70",
   "metadata": {},
   "outputs": [],
   "source": [
    "6.State the machine learning model that would be best to make a robot walk through various\n",
    "unfamiliar terrains?\n",
    "Reinforcement learning can be used to teach robots how to walk through unfamiliar terrains\n"
   ]
  },
  {
   "cell_type": "code",
   "execution_count": null,
   "id": "f338b01a",
   "metadata": {},
   "outputs": [],
   "source": [
    "7.Which algorithm will you use to divide your customers into different groups?\n",
    "Clustering algorithm can be used for dividing customers into different groups. Classification algorithm may also be used if already have an idea about what groups we are going to use.\n",
    "\n",
    "\n"
   ]
  },
  {
   "cell_type": "code",
   "execution_count": null,
   "id": "7c77e257",
   "metadata": {},
   "outputs": [],
   "source": [
    "8.Will you consider the problem of spam detection to be a supervised or unsupervised learning\n",
    "problem?\n",
    "Spam detection is a case of classification which is supervised learning.\n"
   ]
  },
  {
   "cell_type": "code",
   "execution_count": null,
   "id": "e1a76561",
   "metadata": {},
   "outputs": [],
   "source": [
    "9.What is the concept of an online learning system?\n",
    "In online learning , the system is trained incrementally by feeding it data in mini batches. The model is trained and launched into production and then it keeps learning on the fly.\n",
    "\n"
   ]
  },
  {
   "cell_type": "code",
   "execution_count": null,
   "id": "4e770a74",
   "metadata": {},
   "outputs": [],
   "source": [
    "10.What is out-of-core learning, and how does it differ from core learning?\n",
    "Out-of-core learning is an incremental online learning algorithm that is used to train systems on huge datsets that cannot fit in one machine's main memory.\n",
    "\n",
    "\n",
    "\n"
   ]
  },
  {
   "cell_type": "code",
   "execution_count": null,
   "id": "df1edb17",
   "metadata": {},
   "outputs": [],
   "source": [
    "11.What kind of learning algorithm makes predictions using a similarity measure?\n",
    "Instance based learning used similarity measure to make predictions.\n"
   ]
  },
  {
   "cell_type": "code",
   "execution_count": null,
   "id": "f3eab9be",
   "metadata": {},
   "outputs": [],
   "source": [
    "12.What&#39;s the difference between a model parameter and a hyperparameter in a learning\n",
    "algorithm?\n",
    "\n",
    "The amount of regularization to apply during learning can be controlled by a hyperparameter.\n",
    "A hyperparameter is a parameter of a learning algorithm.\n"
   ]
  },
  {
   "cell_type": "code",
   "execution_count": null,
   "id": "09cdbb67",
   "metadata": {},
   "outputs": [],
   "source": [
    "13.What are the criteria that model-based learning algorithms look for? What is the most popular\n",
    "method they use to achieve success? What method do they use to make predictions?\n",
    "\n"
   ]
  },
  {
   "cell_type": "code",
   "execution_count": null,
   "id": "3cf6c8ac",
   "metadata": {},
   "outputs": [],
   "source": [
    "14.Can you name four of the most important Machine Learning challenges?\n",
    "\n",
    "The four most important ML challenges are\n",
    "1.Insufficient quantity of training data\n",
    "2.Non representative training data\n",
    "3.Poor quality data\n",
    "4.Irrelevent features\n",
    "\n"
   ]
  },
  {
   "cell_type": "code",
   "execution_count": null,
   "id": "e8db8166",
   "metadata": {},
   "outputs": [],
   "source": [
    "15.What happens if the model performs well on the training data but fails to generalize the results\n",
    "to new situations? Can you think of three different options?\n",
    "\n",
    "If the model performs well on the training data but fails to generalize the results to new situations , it will be a case of overfitting.\n",
    "To reduce overfitting , we can simplify the model byselecting one with few parameters, by reducing the number of attributes in the training data.\n",
    "Overfitting can be reduced by gathering more training data and by fixing data errors and removing outliers.\n",
    "Regularization reduces the risk of overfitting."
   ]
  },
  {
   "cell_type": "code",
   "execution_count": null,
   "id": "9ca3ae0d",
   "metadata": {},
   "outputs": [],
   "source": [
    "16.What exactly is a test set, and why would you need one?\n",
    "Before the model is put into production to check its performance ,the data is split into training set and test set.\n",
    "The training set is used to train the model and the model is tested on the test set. \n",
    "The test set will help us in estimating the generalization error and identifying how our model will perform on new instances.\n"
   ]
  },
  {
   "cell_type": "code",
   "execution_count": null,
   "id": "b127b73b",
   "metadata": {},
   "outputs": [],
   "source": [
    "17.What is a validation set&#39;s purpose?\n",
    "A validation set is  part of the training set that is held out to evaluate several models and select the best one. \n"
   ]
  },
  {
   "cell_type": "code",
   "execution_count": null,
   "id": "4956694b",
   "metadata": {},
   "outputs": [],
   "source": [
    "18.What precisely is the train-dev kit, when will you need it, how do you put it to use?\n",
    "The train dev kit is part of the training set that is held out , the model is trained on the rest of the training set and evaluated on the both te train dev set and the validation set. If the model performs well on the training set but not on the train dev set , the the model is overfitting the training set. This will help us in reducing errors while chosing the best models and hyperparameter tuning."
   ]
  },
  {
   "cell_type": "code",
   "execution_count": null,
   "id": "84bc0444",
   "metadata": {},
   "outputs": [],
   "source": [
    "19.What could go wrong if you use the test set to tune hyperparameters?\n",
    "If we use the test set to tune hyperparameters , there is a possiblity of overfitting the test set and the generalization error will be more."
   ]
  }
 ],
 "metadata": {
  "kernelspec": {
   "display_name": "Python 3 (ipykernel)",
   "language": "python",
   "name": "python3"
  },
  "language_info": {
   "codemirror_mode": {
    "name": "ipython",
    "version": 3
   },
   "file_extension": ".py",
   "mimetype": "text/x-python",
   "name": "python",
   "nbconvert_exporter": "python",
   "pygments_lexer": "ipython3",
   "version": "3.9.7"
  }
 },
 "nbformat": 4,
 "nbformat_minor": 5
}
