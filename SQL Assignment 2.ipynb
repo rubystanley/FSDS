{
 "cells": [
  {
   "cell_type": "markdown",
   "id": "f14eda57",
   "metadata": {},
   "source": [
    "Q-1. Write an SQL query to print the first three characters of  FIRST_NAME from Worker\n",
    "table.\n",
    "\n",
    "SELECT SUBSTRING(FIRST_NAME,1,3) FROM WORKER;"
   ]
  },
  {
   "cell_type": "markdown",
   "id": "c16813f7",
   "metadata": {},
   "source": [
    "Q-2. Write an SQL query to find the position of the alphabet (‘a’) in the first name\n",
    "column ‘Amitabh’ from Worker table.\n",
    "\n",
    "SELECT CHARINDEX('a','Amitabh') FROM WORKER;\n"
   ]
  },
  {
   "cell_type": "markdown",
   "id": "7594fad0",
   "metadata": {},
   "source": [
    "Q-3. Write an SQL query to print the name of employees having the highest salary in each\n",
    "department.\n",
    "\n",
    "SELECT FIRST_NAME, LAST_NAME FROM WORKERS WHERE SALARY = MAX(SALARY) GROUP BY DEPARTMENT;"
   ]
  }
 ],
 "metadata": {
  "kernelspec": {
   "display_name": "Python 3 (ipykernel)",
   "language": "python",
   "name": "python3"
  },
  "language_info": {
   "codemirror_mode": {
    "name": "ipython",
    "version": 3
   },
   "file_extension": ".py",
   "mimetype": "text/x-python",
   "name": "python",
   "nbconvert_exporter": "python",
   "pygments_lexer": "ipython3",
   "version": "3.9.7"
  }
 },
 "nbformat": 4,
 "nbformat_minor": 5
}
