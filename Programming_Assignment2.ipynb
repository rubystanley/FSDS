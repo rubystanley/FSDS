{
 "cells": [
  {
   "cell_type": "markdown",
   "id": "e7c2babe",
   "metadata": {},
   "source": [
    "Write a Python program to convert kilometers to miles?"
   ]
  },
  {
   "cell_type": "code",
   "execution_count": 2,
   "id": "8f6bdae0",
   "metadata": {},
   "outputs": [
    {
     "name": "stdout",
     "output_type": "stream",
     "text": [
      "Pleas enter the distance in kilometers \n",
      "60\n",
      "The distance in miles is  37.2\n"
     ]
    }
   ],
   "source": [
    "print(\"Please enter the distance in kilometers \")\n",
    "km=int(input())\n",
    "miles=km*0.62\n",
    "print(\"The distance in miles is \", miles)"
   ]
  },
  {
   "cell_type": "markdown",
   "id": "9be30561",
   "metadata": {},
   "source": [
    "Write a Python program to convert Celsius to Fahrenheit?"
   ]
  },
  {
   "cell_type": "code",
   "execution_count": 4,
   "id": "c7a67b0f",
   "metadata": {},
   "outputs": [
    {
     "name": "stdout",
     "output_type": "stream",
     "text": [
      "Please enter the temperature in celsius\n",
      "-20\n",
      "The temperature in farenheit is  -4.0\n"
     ]
    }
   ],
   "source": [
    "print(\"Please enter the temperature in celsius\")\n",
    "cel=int(input())\n",
    "far=cel*9/5 + 32\n",
    "print(\"The temperature in farenheit is \",far)"
   ]
  },
  {
   "cell_type": "markdown",
   "id": "c03c1e6c",
   "metadata": {},
   "source": [
    "Write a Python program to display calendar?"
   ]
  },
  {
   "cell_type": "code",
   "execution_count": 3,
   "id": "17249295",
   "metadata": {},
   "outputs": [
    {
     "name": "stdout",
     "output_type": "stream",
     "text": [
      "Enter the year \n",
      "2021\n",
      "Enter the month in number \n",
      "12\n"
     ]
    },
    {
     "data": {
      "text/plain": [
       "'   December 2021\\nMo Tu We Th Fr Sa Su\\n       1  2  3  4  5\\n 6  7  8  9 10 11 12\\n13 14 15 16 17 18 19\\n20 21 22 23 24 25 26\\n27 28 29 30 31\\n'"
      ]
     },
     "execution_count": 3,
     "metadata": {},
     "output_type": "execute_result"
    }
   ],
   "source": [
    "import calendar\n",
    "print(\"Enter the year \")\n",
    "yy=int(input())\n",
    "print(\"Enter the month in number \")\n",
    "mm=int(input())\n",
    "calendar.month(yy,mm)"
   ]
  },
  {
   "cell_type": "markdown",
   "id": "62987045",
   "metadata": {},
   "source": [
    "\n",
    "Write a Python program to solve quadratic equation?"
   ]
  },
  {
   "cell_type": "code",
   "execution_count": 7,
   "id": "fa6c2544",
   "metadata": {},
   "outputs": [
    {
     "name": "stdout",
     "output_type": "stream",
     "text": [
      "Enter the value of a:\n",
      "20\n",
      "Enter the value of b:\n",
      "34\n",
      "Enter the value of c:\n",
      "1\n",
      "The two solutions are  (1.0842803560596593e+27+0j) and (-1.0842803560596593e+27+0j)\n"
     ]
    }
   ],
   "source": [
    "import cmath\n",
    "print(\"Enter the value of a:\")\n",
    "a=int(input())\n",
    "print(\"Enter the value of b:\")\n",
    "b=int(input())\n",
    "print(\"Enter the value of c:\")\n",
    "c=int(input())\n",
    "\n",
    "# Calculating the discriminant \n",
    "disc= b**b -4*a*c\n",
    "\n",
    "# calculating the two solutions\n",
    "s1=(-b + cmath.sqrt(disc))/2*a\n",
    "s2=(-b - cmath.sqrt(disc))/2*a\n",
    "\n",
    "print(\"The two solutions are \",s1 , \"and\", s2)"
   ]
  },
  {
   "cell_type": "markdown",
   "id": "73bfb8a9",
   "metadata": {},
   "source": [
    "Write a Python program to swap two variables without temp variable?"
   ]
  },
  {
   "cell_type": "code",
   "execution_count": 9,
   "id": "4201229f",
   "metadata": {},
   "outputs": [
    {
     "name": "stdout",
     "output_type": "stream",
     "text": [
      "Enter the value of x\n",
      "90\n",
      "Enter the value of y\n",
      "23\n",
      "Swapping x and y now...\n",
      "x=  23 and y=  90\n"
     ]
    }
   ],
   "source": [
    "print(\"Enter the value of x\")\n",
    "x=int(input())\n",
    "print(\"Enter the value of y\")\n",
    "y=int(input())\n",
    "x=x+y\n",
    "y=x-y\n",
    "x=x-y\n",
    "print(\"Swapping x and y now...\")\n",
    "print(\"x= \",x ,\"and y= \",y)"
   ]
  }
 ],
 "metadata": {
  "kernelspec": {
   "display_name": "Python 3 (ipykernel)",
   "language": "python",
   "name": "python3"
  },
  "language_info": {
   "codemirror_mode": {
    "name": "ipython",
    "version": 3
   },
   "file_extension": ".py",
   "mimetype": "text/x-python",
   "name": "python",
   "nbconvert_exporter": "python",
   "pygments_lexer": "ipython3",
   "version": "3.9.7"
  }
 },
 "nbformat": 4,
 "nbformat_minor": 5
}
