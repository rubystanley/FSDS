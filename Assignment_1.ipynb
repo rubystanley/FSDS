{
 "cells": [
  {
   "cell_type": "markdown",
   "id": "eb0afeb3",
   "metadata": {},
   "source": [
    "1. In the below elements which of them are values or an expression? eg:- values can be integer or string and expressions will be mathematical operators.\n",
    "\n",
    "1 .    *  Expression \n",
    "2.   'hello' Value\n",
    "3.   -87.8 Value\n",
    "4.  - Expression\n",
    "5.  / Expression\n",
    "6.  +\tExpression\n",
    "7  6 Value"
   ]
  },
  {
   "cell_type": "markdown",
   "id": "c6e32fd9",
   "metadata": {},
   "source": [
    "\n",
    "2. What is the difference between string and variable?\n",
    "\n",
    "Variables are elements that can change their values.They can be of any type such as integer, float , string , complex etc. \n",
    "eg: int a \n",
    "A string is a kind of variable that contains characters. eg : a = \"December\" makes the variable a of type string"
   ]
  },
  {
   "cell_type": "markdown",
   "id": "891eaa45",
   "metadata": {},
   "source": [
    "\n",
    "3. Describe three different data types.\n",
    "   1. Numeric - Integer , float , complex eg: x=20, y=43.3, z = 4+5j\n",
    "   2. String - eg:name = \" Merry\"\n",
    "   3. Boolean - eg :True , False"
   ]
  },
  {
   "cell_type": "markdown",
   "id": "68c73aa6",
   "metadata": {},
   "source": [
    "4. What is an expression made up of? What do all expressions do?\n",
    "An expression consists of variables , values and operators. The compiler evaluates expressions and returns a value that may be assigned to a variable\n",
    "eg: x= 2 + 9"
   ]
  },
  {
   "cell_type": "markdown",
   "id": "1c7482ef",
   "metadata": {},
   "source": [
    "\n",
    "5. This assignment statements, like spam = 10. What is the difference between an expression and a statement?\n",
    "\n",
    "An expression always returns a value that can be assigned to a variable but statements do not return values.\n",
    "eg if statement, elif, for loop etc are statements.\n",
    "x=y *2 is an expression"
   ]
  },
  {
   "cell_type": "markdown",
   "id": "f8f7c708",
   "metadata": {},
   "source": [
    "6. After running the following code, what does the variable bacon contain?\n",
    "bacon = 22\n",
    "bacon + 1\n",
    "\n",
    "22"
   ]
  },
  {
   "cell_type": "markdown",
   "id": "aab70ca5",
   "metadata": {},
   "source": [
    "7. What should the values of the following two terms be?\n",
    "'spam' + 'spamspam' = spamspamspam\n",
    "'spam' * 3 = spamspamspam"
   ]
  },
  {
   "cell_type": "markdown",
   "id": "f80f0984",
   "metadata": {},
   "source": [
    "8. Why is eggs a valid variable name while 100 is invalid?\n",
    "Variable names not start with numbers , hence 100 is invalid.\n",
    "Variable names can be alphanumeric , hence eggs is valid.\n"
   ]
  },
  {
   "cell_type": "markdown",
   "id": "86c2033e",
   "metadata": {},
   "source": [
    "9. What three functions can be used to get the integer, floating-point number, or string version of a value?\n",
    "\n",
    "To get the integer version of a value we use int(x) where x is the variable.\n",
    "For float it is float(x) and for string it is str(x)\n"
   ]
  },
  {
   "cell_type": "markdown",
   "id": "b099cf93",
   "metadata": {},
   "source": [
    "10. Why does this expression cause an error? How can you fix it?\n",
    "'I have eaten ' + 99 + ' burritos.'\n",
    "\n",
    "Python does not allow an integer ( in this case 99) to be concatenated to the strings('I have eaten') and ('burritos').\n",
    "We can fix this by changing the type of the integer 99 to string by using the function str(99).The expression can be changed to\n",
    "'I have eaten'+ str(99) + 'burritos.'\n",
    "\n"
   ]
  }
 ],
 "metadata": {
  "kernelspec": {
   "display_name": "Python 3 (ipykernel)",
   "language": "python",
   "name": "python3"
  },
  "language_info": {
   "codemirror_mode": {
    "name": "ipython",
    "version": 3
   },
   "file_extension": ".py",
   "mimetype": "text/x-python",
   "name": "python",
   "nbconvert_exporter": "python",
   "pygments_lexer": "ipython3",
   "version": "3.9.7"
  }
 },
 "nbformat": 4,
 "nbformat_minor": 5
}
