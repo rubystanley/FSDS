{
 "cells": [
  {
   "cell_type": "code",
   "execution_count": null,
   "id": "1a6042fa",
   "metadata": {},
   "outputs": [],
   "source": [
    "Q1. What is the purpose of Python's OOP?\n",
    "The purpose of Python's OOP is to solve programming challenges using objects and classes. It does this by creating objects that have properties or data associated with them and perform certain functions.\n",
    "Using OOP Python can support key concepts like Inheritance, Polymorphism, Data Abstraction, and Encapsulation.\n"
   ]
  },
  {
   "cell_type": "code",
   "execution_count": 1,
   "id": "5bd56d92",
   "metadata": {},
   "outputs": [],
   "source": [
    "class car:\n",
    "    pass"
   ]
  },
  {
   "cell_type": "code",
   "execution_count": null,
   "id": "28226049",
   "metadata": {},
   "outputs": [],
   "source": [
    "Q2. Where does an inheritance search look for an attribute?\n",
    "Inheritance searches namespace trees for an attribute. "
   ]
  },
  {
   "cell_type": "code",
   "execution_count": null,
   "id": "1d2310b1",
   "metadata": {},
   "outputs": [],
   "source": [
    "Q3. How do you distinguish between a class object and an instance object?\n",
    " \n",
    "A class object is created using the statement class. Eg\n",
    "class car:\n",
    "    pass\n",
    "a = car\n",
    "In the above code , car is a class object and it is created when we use the keyword class\n",
    "\n",
    "Instance objects are created when we call a class. For example\n",
    "toyota = car()\n",
    "Here toyota is an instance object.\n",
    "\n",
    "Instance objects can access all attributes of the class object , Class objects inherit all attributes from the parent class."
   ]
  },
  {
   "cell_type": "code",
   "execution_count": null,
   "id": "59eb2da9",
   "metadata": {},
   "outputs": [],
   "source": [
    "Q4. What makes the first argument in a class’s method function special?\n",
    "The first argument in a class's method function is self.\n",
    "The self keyword is used to represent an instance (object) of the given class. In python explicit is better than implicit.\n",
    "Using the self allows all instance objects of the class have their own attributes and methods."
   ]
  },
  {
   "cell_type": "code",
   "execution_count": null,
   "id": "73a56032",
   "metadata": {},
   "outputs": [],
   "source": [
    "Q5. What is the purpose of the __init__ method?\n",
    "__init__ is a function that is called as soon as a class is created and it is used to initialize the variables."
   ]
  },
  {
   "cell_type": "code",
   "execution_count": null,
   "id": "03dd13ee",
   "metadata": {},
   "outputs": [],
   "source": [
    "Q6. What is the process for creating a class instance?\n",
    "To create a class instance use the classname()\n",
    "\n",
    "\n",
    "class Color(object):\n",
    "    def paint(self):\n",
    "               return Color()\n",
    "\n"
   ]
  },
  {
   "cell_type": "code",
   "execution_count": null,
   "id": "0ee37517",
   "metadata": {},
   "outputs": [],
   "source": [
    "Q7. What is the process for creating a class?\n",
    "\n",
    "To create a class\n",
    "class myclass():\n",
    "    def __init__(self,a,b):\n",
    "        self.a = a\n",
    "        self.b = b\n",
    "    "
   ]
  },
  {
   "cell_type": "code",
   "execution_count": null,
   "id": "129ae735",
   "metadata": {},
   "outputs": [],
   "source": [
    "Q8. How would you define the superclasses of a class?\n",
    "\n",
    "Superclass of a class is the class from which a class inherits its attributes or properties and methods"
   ]
  }
 ],
 "metadata": {
  "kernelspec": {
   "display_name": "Python 3 (ipykernel)",
   "language": "python",
   "name": "python3"
  },
  "language_info": {
   "codemirror_mode": {
    "name": "ipython",
    "version": 3
   },
   "file_extension": ".py",
   "mimetype": "text/x-python",
   "name": "python",
   "nbconvert_exporter": "python",
   "pygments_lexer": "ipython3",
   "version": "3.9.7"
  }
 },
 "nbformat": 4,
 "nbformat_minor": 5
}
