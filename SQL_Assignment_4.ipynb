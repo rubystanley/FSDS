{
 "cells": [
  {
   "cell_type": "code",
   "execution_count": null,
   "id": "c093df0d",
   "metadata": {},
   "outputs": [],
   "source": [
    "Q-1. Write an SQL query to print the FIRST_NAME from Worker table after replacing ‘a’\n",
    "with ‘A’.\n",
    "\n",
    "SELECT REPLACE(FIRST_NAME,'a','A') from WORKER"
   ]
  },
  {
   "cell_type": "code",
   "execution_count": null,
   "id": "961fe0fc",
   "metadata": {},
   "outputs": [],
   "source": [
    "Q-2. Write an SQL query to print all Worker details from the Worker table order by\n",
    "FIRST_NAME Ascending and DEPARTMENT Descending.\n",
    "\n",
    "SELECT * FROM WORKER ORDER BY FIRST_NAME ASC, DEPARTMENT DESC"
   ]
  },
  {
   "cell_type": "code",
   "execution_count": null,
   "id": "3138b458",
   "metadata": {},
   "outputs": [],
   "source": [
    "Q-3. Write an SQL query to fetch the names of workers who earn the highest salary.\n",
    "\n",
    "SELECT FIRST_NAME, LAST_NAME, SALARY FROM WORKER WHERE SALARY = (SELECT MAX(SALARY) FROM WORKER)"
   ]
  }
 ],
 "metadata": {
  "kernelspec": {
   "display_name": "Python 3 (ipykernel)",
   "language": "python",
   "name": "python3"
  },
  "language_info": {
   "codemirror_mode": {
    "name": "ipython",
    "version": 3
   },
   "file_extension": ".py",
   "mimetype": "text/x-python",
   "name": "python",
   "nbconvert_exporter": "python",
   "pygments_lexer": "ipython3",
   "version": "3.9.7"
  }
 },
 "nbformat": 4,
 "nbformat_minor": 5
}
