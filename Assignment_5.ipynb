{
 "cells": [
  {
   "cell_type": "markdown",
   "id": "ec1e418b",
   "metadata": {},
   "source": [
    "1. What does an empty dictionary's code look like?\n",
    "We can create an empty dictionary by using the curly braces with no values in it. Eg:\n",
    "d={} "
   ]
  },
  {
   "cell_type": "markdown",
   "id": "28e8aa44",
   "metadata": {},
   "source": [
    "2. What is the value of a dictionary value with the key 'foo' and the value 42?\n",
    "The value is 42\n",
    "d={\"foo\":42}"
   ]
  },
  {
   "cell_type": "markdown",
   "id": "26c6f77b",
   "metadata": {},
   "source": [
    "3. What is the most significant distinction between a dictionary and a list?\n",
    "List is an ordered collection objects which are accessed using their indices whereas dictionary is a key value pair of objects where objects are accessed using their keys."
   ]
  },
  {
   "cell_type": "markdown",
   "id": "a90563d9",
   "metadata": {},
   "source": [
    "4. What happens if you try to access spam['foo'] if spam is {'bar': 100}?\n",
    "This will throw a key error because 'foo' was never initialized."
   ]
  },
  {
   "cell_type": "markdown",
   "id": "5b63f59e",
   "metadata": {},
   "source": [
    "5. If a dictionary is stored in spam, what is the difference between the expressions 'cat' in spam and 'cat' in spam.keys()?\n",
    "\n",
    "Both expressions do the same , they check if any of the keys in spam is cat"
   ]
  },
  {
   "cell_type": "markdown",
   "id": "5012ffb7",
   "metadata": {},
   "source": [
    "6. If a dictionary is stored in spam, what is the difference between the expressions 'cat' in spam and 'cat' in spam.values()?\n",
    "The first expression checks for the key cat while the second statements checks if any of the values is cat\n"
   ]
  },
  {
   "cell_type": "markdown",
   "id": "98d334a1",
   "metadata": {},
   "source": [
    "7. What is a shortcut for the following code?\n",
    "if 'color' not in spam:\n",
    "spam['color'] = 'black'\n"
   ]
  },
  {
   "cell_type": "code",
   "execution_count": 7,
   "id": "b325d322",
   "metadata": {},
   "outputs": [
    {
     "data": {
      "text/plain": [
       "{'bar': 100, 'color': 'black'}"
      ]
     },
     "execution_count": 7,
     "metadata": {},
     "output_type": "execute_result"
    }
   ],
   "source": [
    "spam.setdefault('color','black')\n",
    "spam"
   ]
  },
  {
   "cell_type": "markdown",
   "id": "08a6ebf7",
   "metadata": {},
   "source": [
    "8. How do you \"pretty print\" dictionary values using which module and function?\n"
   ]
  },
  {
   "cell_type": "code",
   "execution_count": 8,
   "id": "a6b221c1",
   "metadata": {},
   "outputs": [
    {
     "name": "stdout",
     "output_type": "stream",
     "text": [
      "{'bar': 100, 'color': 'black'}\n"
     ]
    }
   ],
   "source": [
    "import pprint\n",
    "pprint.pprint(spam)"
   ]
  },
  {
   "cell_type": "markdown",
   "id": "5ee12fe9",
   "metadata": {},
   "source": []
  },
  {
   "cell_type": "markdown",
   "id": "87eea863",
   "metadata": {},
   "source": []
  },
  {
   "cell_type": "markdown",
   "id": "5c0e089a",
   "metadata": {},
   "source": []
  },
  {
   "cell_type": "markdown",
   "id": "2fe020ef",
   "metadata": {},
   "source": []
  }
 ],
 "metadata": {
  "kernelspec": {
   "display_name": "Python 3 (ipykernel)",
   "language": "python",
   "name": "python3"
  },
  "language_info": {
   "codemirror_mode": {
    "name": "ipython",
    "version": 3
   },
   "file_extension": ".py",
   "mimetype": "text/x-python",
   "name": "python",
   "nbconvert_exporter": "python",
   "pygments_lexer": "ipython3",
   "version": "3.9.7"
  }
 },
 "nbformat": 4,
 "nbformat_minor": 5
}
