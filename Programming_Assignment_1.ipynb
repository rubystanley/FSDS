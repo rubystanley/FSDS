{
 "cells": [
  {
   "cell_type": "markdown",
   "id": "587991a1",
   "metadata": {},
   "source": [
    "1.Write a Python program to print \"Hello Python\"?"
   ]
  },
  {
   "cell_type": "code",
   "execution_count": null,
   "id": "5d16089f",
   "metadata": {},
   "outputs": [],
   "source": [
    "print(\"Hello Python\")"
   ]
  },
  {
   "cell_type": "markdown",
   "id": "7bad18cc",
   "metadata": {},
   "source": [
    "2.Write a Python program to do arithmetical operations addition and division.?\n"
   ]
  },
  {
   "cell_type": "code",
   "execution_count": 7,
   "id": "4a39bf32",
   "metadata": {},
   "outputs": [
    {
     "name": "stdout",
     "output_type": "stream",
     "text": [
      "Please enter the first number\n",
      "9\n",
      "Please enter the second number\n",
      "3\n",
      "The sum is 12\n",
      "The quotient is 3.0\n"
     ]
    }
   ],
   "source": [
    "print(\"Please enter the first number\")\n",
    "a = int(input())\n",
    "print(\"Please enter the second number\")\n",
    "b=int(input())\n",
    "c= a + b\n",
    "print(\"The sum is\",a+b)\n",
    "print(\"The quotient is\", a/b)"
   ]
  },
  {
   "cell_type": "markdown",
   "id": "efcb303d",
   "metadata": {},
   "source": [
    "3.Write a Python program to find the area of a triangle?"
   ]
  },
  {
   "cell_type": "code",
   "execution_count": 8,
   "id": "aebc324a",
   "metadata": {},
   "outputs": [
    {
     "name": "stdout",
     "output_type": "stream",
     "text": [
      "Enter the base of the triangle in cm\n",
      "9\n",
      "Enter the height of the triangle in cm\n",
      "7\n",
      "The area of the triangle is  31.5 cm square\n"
     ]
    }
   ],
   "source": [
    "print(\"Enter the base of the triangle in cm\")\n",
    "base = int(input())\n",
    "print(\"Enter the height of the triangle in cm\")\n",
    "height = int(input())\n",
    "print(\"The area of the triangle is \", 0.5 * base * height, \"cm square\")"
   ]
  },
  {
   "cell_type": "markdown",
   "id": "51b499f5",
   "metadata": {},
   "source": [
    "4.Write a Python program to swap two variables?"
   ]
  },
  {
   "cell_type": "code",
   "execution_count": 9,
   "id": "505bf620",
   "metadata": {},
   "outputs": [
    {
     "name": "stdout",
     "output_type": "stream",
     "text": [
      "Enter the variable x\n",
      "9\n",
      "Enter the variable y\n",
      "3\n",
      "Swapping the two numbers....\n",
      "The new value of x is  3 \n",
      "\n",
      "The new value of y is  9 \n",
      "\n"
     ]
    }
   ],
   "source": [
    "print(\"Enter the variable x\")\n",
    "x=int(input())\n",
    "print(\"Enter the variable y\")\n",
    "y=int(input())\n",
    "c=x\n",
    "x=y\n",
    "y=c\n",
    "print(\"Swapping the two numbers....\")\n",
    "print(\"The new value of x is \",x,'\\n')\n",
    "print(\"The new value of y is \",y,'\\n')\n"
   ]
  },
  {
   "cell_type": "markdown",
   "id": "2efd6df1",
   "metadata": {},
   "source": [
    "5.Write a Python program to generate a random number?"
   ]
  },
  {
   "cell_type": "code",
   "execution_count": 10,
   "id": "736f6341",
   "metadata": {},
   "outputs": [
    {
     "data": {
      "text/plain": [
       "0.8418855837547422"
      ]
     },
     "execution_count": 10,
     "metadata": {},
     "output_type": "execute_result"
    }
   ],
   "source": [
    "import random\n",
    "random.random()"
   ]
  },
  {
   "cell_type": "code",
   "execution_count": null,
   "id": "cddc75f1",
   "metadata": {},
   "outputs": [],
   "source": []
  }
 ],
 "metadata": {
  "kernelspec": {
   "display_name": "Python 3 (ipykernel)",
   "language": "python",
   "name": "python3"
  },
  "language_info": {
   "codemirror_mode": {
    "name": "ipython",
    "version": 3
   },
   "file_extension": ".py",
   "mimetype": "text/x-python",
   "name": "python",
   "nbconvert_exporter": "python",
   "pygments_lexer": "ipython3",
   "version": "3.9.7"
  }
 },
 "nbformat": 4,
 "nbformat_minor": 5
}
