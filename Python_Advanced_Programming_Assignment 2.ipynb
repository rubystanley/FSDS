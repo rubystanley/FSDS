{
 "cells": [
  {
   "cell_type": "markdown",
   "id": "4fa96a47",
   "metadata": {},
   "source": [
    "1. Write a function that takes a positive integer num and calculates how many dots exist in a pentagonal shape around the center dot on the Nth iteration.\n",
    "\n",
    "In the image below you can see the first iteration is only a single dot. On the second, there are 6 dots. On the third, there are 16 dots, and on the fourth there are 31 dots.\n",
    "\n",
    "Return the number of dots that exist in the whole pentagon on the Nth iteration.\n",
    "\n",
    "Examples\n",
    "\n",
    "pentagonal(1) ➞ 1\n",
    "\n",
    "pentagonal(2) ➞ 6\n",
    "\n",
    "pentagonal(3) ➞ 16\n",
    "\n",
    "pentagonal(8) ➞ 141\n",
    "\n"
   ]
  },
  {
   "cell_type": "code",
   "execution_count": 1,
   "id": "02f3782d",
   "metadata": {},
   "outputs": [],
   "source": [
    "def pent(n):\n",
    "    \"\"\" This function returns no. of dots function that takes a positive integer num and calculates how many dots exist in a pentagonal shape around the center dot on the Nth iteration.\"\"\"\n",
    "    try:\n",
    "        if n==0:\n",
    "            return 0\n",
    "        elif n==1:\n",
    "            return 1\n",
    "        else:\n",
    "            a = int(pent(n-1))\n",
    "            dots = a + 5* (n-1)\n",
    "            return dots\n",
    "        \n",
    "    except Exception as e:\n",
    "        print(e)"
   ]
  },
  {
   "cell_type": "code",
   "execution_count": 2,
   "id": "45fde03a",
   "metadata": {},
   "outputs": [
    {
     "data": {
      "text/plain": [
       "16"
      ]
     },
     "execution_count": 2,
     "metadata": {},
     "output_type": "execute_result"
    }
   ],
   "source": [
    "pent(3)"
   ]
  },
  {
   "cell_type": "code",
   "execution_count": 3,
   "id": "83f2bec5",
   "metadata": {},
   "outputs": [
    {
     "data": {
      "text/plain": [
       "141"
      ]
     },
     "execution_count": 3,
     "metadata": {},
     "output_type": "execute_result"
    }
   ],
   "source": [
    "pent(8)"
   ]
  },
  {
   "cell_type": "code",
   "execution_count": 4,
   "id": "3867eabd",
   "metadata": {},
   "outputs": [
    {
     "data": {
      "text/plain": [
       "0"
      ]
     },
     "execution_count": 4,
     "metadata": {},
     "output_type": "execute_result"
    }
   ],
   "source": [
    "pent(0)"
   ]
  },
  {
   "cell_type": "markdown",
   "id": "99ae498e",
   "metadata": {},
   "source": [
    "2.  Make a function that encrypts a given input with these steps:\n",
    "\n",
    "Input: \"apple\"\n",
    "\n",
    "Step 1: Reverse the input: \"elppa\"\n",
    "\n",
    "Step 2: Replace all vowels using the following chart:\n",
    "\n",
    "a => 0\n",
    "e => 1\n",
    "i => 2\n",
    "o => 2\n",
    "u => 3\n",
    "\n",
    "# \"1lpp0\"\n",
    "\n",
    "Step 3: Add \"aca\" to the end of the word: \"1lpp0aca\"\n",
    "\n",
    "Output: \"1lpp0aca\"\n",
    "\n",
    "Examples\n",
    "\n",
    "encrypt(\"banana\") ➞ \"0n0n0baca\"\n",
    "\n",
    "encrypt(\"karaca\") ➞ \"0c0r0kaca\"\n",
    "\n",
    "encrypt(\"burak\") ➞ \"k0r3baca\"\n",
    "\n",
    "encrypt(\"alpaca\") ➞ \"0c0pl0aca\"\n",
    "\n"
   ]
  },
  {
   "cell_type": "code",
   "execution_count": 155,
   "id": "86114a03",
   "metadata": {},
   "outputs": [],
   "source": [
    "def encrypt3(a):\n",
    "    \"\"\"This function encrypts a given string using the above given rules\"\"\"\n",
    "    try:\n",
    "        d={\"a\":0,\"e\":1,\"i\":2,\"o\":2,\"u\":3}\n",
    "        rev=list(a[::-1])\n",
    "        for i in range(len(rev)):\n",
    "            if rev[i] in d.keys():\n",
    "                rev[i]=d[rev[i]]\n",
    "        res =''.join(map(str, rev))\n",
    "        res =res+'aca'\n",
    "        print(res)\n",
    "    except Exception as e:\n",
    "        print(e)"
   ]
  },
  {
   "cell_type": "code",
   "execution_count": 156,
   "id": "ef094aa7",
   "metadata": {},
   "outputs": [
    {
     "name": "stdout",
     "output_type": "stream",
     "text": [
      "1lpp0aca\n"
     ]
    }
   ],
   "source": [
    "encrypt3(\"apple\")"
   ]
  },
  {
   "cell_type": "code",
   "execution_count": 157,
   "id": "ca0fecc9",
   "metadata": {},
   "outputs": [
    {
     "name": "stdout",
     "output_type": "stream",
     "text": [
      "0n0n0baca\n"
     ]
    }
   ],
   "source": [
    "encrypt3(\"banana\")"
   ]
  },
  {
   "cell_type": "code",
   "execution_count": 158,
   "id": "179d6434",
   "metadata": {},
   "outputs": [
    {
     "name": "stdout",
     "output_type": "stream",
     "text": [
      "0c0r0kaca\n"
     ]
    }
   ],
   "source": [
    "encrypt3(\"karaca\")"
   ]
  },
  {
   "cell_type": "code",
   "execution_count": 159,
   "id": "b52d73be",
   "metadata": {},
   "outputs": [
    {
     "name": "stdout",
     "output_type": "stream",
     "text": [
      "k0r3baca\n"
     ]
    }
   ],
   "source": [
    "encrypt3(\"burak\") "
   ]
  },
  {
   "cell_type": "code",
   "execution_count": 154,
   "id": "04700d2d",
   "metadata": {},
   "outputs": [
    {
     "name": "stdout",
     "output_type": "stream",
     "text": [
      "0c0pl0aca\n"
     ]
    }
   ],
   "source": [
    "encrypt3(\"alpaca\")"
   ]
  },
  {
   "cell_type": "markdown",
   "id": "51c0fab0",
   "metadata": {},
   "source": [
    "3. Given the month and year as numbers, return whether that month contains a Friday 13th.(i.e You can check Python's datetime module)\n",
    "\n",
    "Examples\n",
    "\n",
    "has_friday_13(3, 2020) ➞ True\n",
    "\n",
    "has_friday_13(10, 2017) ➞ True\n",
    "\n",
    "has_friday_13(1, 1985) ➞ False\n"
   ]
  },
  {
   "cell_type": "code",
   "execution_count": 32,
   "id": "f8972421",
   "metadata": {},
   "outputs": [],
   "source": [
    "import datetime"
   ]
  },
  {
   "cell_type": "code",
   "execution_count": 66,
   "id": "072245c3",
   "metadata": {},
   "outputs": [],
   "source": [
    "def has_friday_13(month,year):\n",
    "    \"\"\"This function checks whether there exists a Friday 13th for a given month and year\"\"\"\n",
    "    try:\n",
    "        t=datetime.date(year,month,13)\n",
    "        flag = t.isoweekday()\n",
    "        if flag ==5:\n",
    "            return True\n",
    "        else:\n",
    "            return False\n",
    "    except Exception as e:\n",
    "        print(e)\n",
    "    "
   ]
  },
  {
   "cell_type": "code",
   "execution_count": 67,
   "id": "2dddc023",
   "metadata": {},
   "outputs": [
    {
     "data": {
      "text/plain": [
       "True"
      ]
     },
     "execution_count": 67,
     "metadata": {},
     "output_type": "execute_result"
    }
   ],
   "source": [
    "has_friday_13(3, 2020)"
   ]
  },
  {
   "cell_type": "code",
   "execution_count": 68,
   "id": "d19c2566",
   "metadata": {},
   "outputs": [
    {
     "data": {
      "text/plain": [
       "True"
      ]
     },
     "execution_count": 68,
     "metadata": {},
     "output_type": "execute_result"
    }
   ],
   "source": [
    "has_friday_13(10, 2017)"
   ]
  },
  {
   "cell_type": "code",
   "execution_count": 69,
   "id": "559fc080",
   "metadata": {},
   "outputs": [
    {
     "data": {
      "text/plain": [
       "False"
      ]
     },
     "execution_count": 69,
     "metadata": {},
     "output_type": "execute_result"
    }
   ],
   "source": [
    "has_friday_13(1, 1985)"
   ]
  },
  {
   "cell_type": "code",
   "execution_count": 70,
   "id": "cc3fc081",
   "metadata": {},
   "outputs": [
    {
     "name": "stdout",
     "output_type": "stream",
     "text": [
      "month must be in 1..12\n"
     ]
    }
   ],
   "source": [
    "has_friday_13(53,2131)"
   ]
  },
  {
   "cell_type": "markdown",
   "id": "8fdf2a6e",
   "metadata": {},
   "source": [
    "4. Write a regular expression that will help us count how many bad cookies are produced every day. You must use RegEx negative lookbehind.\n",
    "\n",
    "Example\n",
    "\n",
    "lst = [\"bad cookie\", \"good cookie\", \"bad cookie\", \"good cookie\", \"good cookie\"]\n",
    "pattern = \"yourregularexpressionhere\"\n",
    "\n",
    "len(re.findall(pattern, \", \".join(lst))) ➞ 2\n"
   ]
  },
  {
   "cell_type": "code",
   "execution_count": 5,
   "id": "f204b9f8",
   "metadata": {},
   "outputs": [
    {
     "data": {
      "text/plain": [
       "2"
      ]
     },
     "execution_count": 5,
     "metadata": {},
     "output_type": "execute_result"
    }
   ],
   "source": [
    "import re\n",
    "lst = [\"bad cookie\", \"good cookie\", \"bad cookie\", \"good cookie\", \"good cookie\"] \n",
    "pattern = \"(?<!good\\s)cookie\"\n",
    "len(re.findall(pattern, \", \".join(lst))) "
   ]
  },
  {
   "cell_type": "markdown",
   "id": "9c4009ce",
   "metadata": {},
   "source": [
    "5. Given a list of words in the singular form, return a set of those words in the plural form if they appear more than once in the list.\n",
    "\n",
    "Examples\n",
    "\n",
    "pluralize([\"cow\", \"pig\", \"cow\", \"cow\"]) ➞ { \"cows\", \"pig\" }\n",
    "\n",
    "pluralize([\"table\", \"table\", \"table\"]) ➞ { \"tables\" }\n",
    "\n",
    "pluralize([\"chair\", \"pencil\", \"arm\"]) ➞ { \"chair\", \"pencil\", \"arm\" \n"
   ]
  },
  {
   "cell_type": "code",
   "execution_count": 62,
   "id": "aab30477",
   "metadata": {},
   "outputs": [],
   "source": [
    "def pluralize(l):\n",
    "    \"\"\"This function pluralizes words in a list and returns a set\"\"\"\n",
    "    try:\n",
    "        j=[]\n",
    "        for i in l:\n",
    "            if(l.count(i)>1):\n",
    "                j.append(i+\"s\")\n",
    "            else:\n",
    "                j.append(i)\n",
    "        s=set(j)\n",
    "        return(s)\n",
    "    except Exception as e:\n",
    "        print(e)\n",
    "    "
   ]
  },
  {
   "cell_type": "code",
   "execution_count": 63,
   "id": "384b56a6",
   "metadata": {},
   "outputs": [
    {
     "data": {
      "text/plain": [
       "{'cows', 'pig'}"
      ]
     },
     "execution_count": 63,
     "metadata": {},
     "output_type": "execute_result"
    }
   ],
   "source": [
    "pluralize([\"cow\", \"pig\", \"cow\", \"cow\"])"
   ]
  },
  {
   "cell_type": "code",
   "execution_count": 64,
   "id": "e9d33453",
   "metadata": {},
   "outputs": [
    {
     "data": {
      "text/plain": [
       "{'tables'}"
      ]
     },
     "execution_count": 64,
     "metadata": {},
     "output_type": "execute_result"
    }
   ],
   "source": [
    "pluralize([\"table\", \"table\", \"table\"])"
   ]
  },
  {
   "cell_type": "code",
   "execution_count": 65,
   "id": "bca50666",
   "metadata": {},
   "outputs": [
    {
     "data": {
      "text/plain": [
       "{'arm', 'chair', 'pencil'}"
      ]
     },
     "execution_count": 65,
     "metadata": {},
     "output_type": "execute_result"
    }
   ],
   "source": [
    "pluralize([\"chair\", \"pencil\", \"arm\"]) "
   ]
  },
  {
   "cell_type": "code",
   "execution_count": null,
   "id": "e25fa9e6",
   "metadata": {},
   "outputs": [],
   "source": []
  }
 ],
 "metadata": {
  "kernelspec": {
   "display_name": "Python 3 (ipykernel)",
   "language": "python",
   "name": "python3"
  },
  "language_info": {
   "codemirror_mode": {
    "name": "ipython",
    "version": 3
   },
   "file_extension": ".py",
   "mimetype": "text/x-python",
   "name": "python",
   "nbconvert_exporter": "python",
   "pygments_lexer": "ipython3",
   "version": "3.9.7"
  }
 },
 "nbformat": 4,
 "nbformat_minor": 5
}
